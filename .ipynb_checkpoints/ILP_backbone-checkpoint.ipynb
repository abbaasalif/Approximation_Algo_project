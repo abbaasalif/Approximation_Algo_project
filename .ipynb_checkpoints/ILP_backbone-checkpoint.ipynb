{
 "cells": [
  {
   "cell_type": "markdown",
   "metadata": {},
   "source": [
    "# Linear Programming for Approximation Algorithms Project\n",
    "\n",
    "Note: this is just a skeleton and not the production level code."
   ]
  },
  {
   "cell_type": "code",
   "execution_count": 1,
   "metadata": {},
   "outputs": [
    {
     "name": "stdout",
     "output_type": "stream",
     "text": [
      "Collecting pulp\n",
      "  Downloading PuLP-2.6.0-py3-none-any.whl (14.2 MB)\n",
      "     ---------------------------------------- 14.2/14.2 MB 4.3 MB/s eta 0:00:00\n",
      "Installing collected packages: pulp\n",
      "Successfully installed pulp-2.6.0\n"
     ]
    }
   ],
   "source": [
    "#!pip install pulp\n",
    "from pulp import *\n",
    "import numpy as np"
   ]
  },
  {
   "cell_type": "code",
   "execution_count": null,
   "metadata": {},
   "outputs": [],
   "source": [
    "#file containing the list of edges in graph G\n",
    "edge_list = open(\"edges.dat\")"
   ]
  },
  {
   "cell_type": "code",
   "execution_count": null,
   "metadata": {},
   "outputs": [],
   "source": [
    "data=''\n",
    "for line in edge_list.readlines():\n",
    "    data += line\n",
    "data=eval(data)\n",
    "edge_list.close()"
   ]
  },
  {
   "cell_type": "code",
   "execution_count": 5,
   "metadata": {},
   "outputs": [],
   "source": [
    "#Information for each edge in the graph with cliques\n"
   ]
  },
  {
   "cell_type": "code",
   "execution_count": 6,
   "metadata": {},
   "outputs": [
    {
     "name": "stderr",
     "output_type": "stream",
     "text": [
      "/Users/mrinal18/opt/anaconda3/lib/python3.8/site-packages/pulp/pulp.py:1352: UserWarning: Spaces are not permitted in the name. Converted to '_'\n",
      "  warnings.warn(\"Spaces are not permitted in the name. Converted to '_'\")\n"
     ]
    }
   ],
   "source": [
    "#initializes lp problem\n",
    "lp = LpProblem(\"Coloring Problem\",LpMinimize)"
   ]
  },
  {
   "cell_type": "code",
   "execution_count": 8,
   "metadata": {},
   "outputs": [],
   "source": [
    "# The problem variables are created\n",
    "# variables x_ij to indicate whether node i is colored by color j;\n",
    "xij = LpVariable.dicts(\"xij\",(range(len(data)),range(len(data))),0,1,LpInteger)"
   ]
  },
  {
   "cell_type": "code",
   "execution_count": 10,
   "metadata": {},
   "outputs": [],
   "source": [
    "#variables yj to indicate whether color j was used\n",
    "yj = LpVariable.dicts(\"y\",range(len(data)),0,1,LpInteger)"
   ]
  },
  {
   "cell_type": "code",
   "execution_count": 12,
   "metadata": {},
   "outputs": [],
   "source": [
    "#objective is the sum of yj over all j\n",
    "obj = lpSum(yj[j] for j in range(len(data)))\n",
    "lp += obj, \"Objective Function\""
   ]
  },
  {
   "cell_type": "code",
   "execution_count": 13,
   "metadata": {},
   "outputs": [],
   "source": [
    "#constraint s.t. each node uses exactly 1 color\n",
    "def constraint1(i,j):\n",
    "    return xij[i][j] <= yj[j]"
   ]
  },
  {
   "cell_type": "code",
   "execution_count": 14,
   "metadata": {},
   "outputs": [],
   "source": [
    "#constraint s.t. adjacent nodes do not have the same color\n",
    "def constraint2(i,j):\n",
    "    return xij[i][j] + xij[j][i] <= 1"
   ]
  },
  {
   "cell_type": "code",
   "execution_count": 15,
   "metadata": {},
   "outputs": [],
   "source": [
    "#constraint s.t. if node i is assigned color k, color k is used\n",
    "def constraint3(i,k):\n",
    "    return xij[i][k] <= yj[k] "
   ]
  },
  {
   "cell_type": "code",
   "execution_count": null,
   "metadata": {},
   "outputs": [],
   "source": [
    "#Solving Linear Programming Problem\n",
    "lp.solve()"
   ]
  }
 ],
 "metadata": {
  "interpreter": {
   "hash": "f96068154b5bc6e6548f49214f975f9d1513bfaede5d9ab8bc35c7389c0dcf91"
  },
  "kernelspec": {
   "display_name": "Python 3 (ipykernel)",
   "language": "python",
   "name": "python3"
  },
  "language_info": {
   "codemirror_mode": {
    "name": "ipython",
    "version": 3
   },
   "file_extension": ".py",
   "mimetype": "text/x-python",
   "name": "python",
   "nbconvert_exporter": "python",
   "pygments_lexer": "ipython3",
   "version": "3.7.11"
  }
 },
 "nbformat": 4,
 "nbformat_minor": 2
}
