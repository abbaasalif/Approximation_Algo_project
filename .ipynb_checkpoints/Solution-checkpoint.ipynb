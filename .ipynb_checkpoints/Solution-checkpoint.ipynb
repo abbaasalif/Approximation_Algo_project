{
 "cells": [
  {
   "cell_type": "markdown",
   "id": "6e85d5b9",
   "metadata": {},
   "source": [
    "# Problem E.  \n",
    "### Input: A graph G\n",
    "\n",
    "Find: a fractal dimension of G. It is defined by an optimal partition of a graph into cliques in such a way that every edge is covered by some clique from the partition. For a given partition, we color the cliques in such a way that intersecting cliques have different colors; the number of colors is the chromatic number of the partition. The goal is to find a partition with the minimal chromatic number; this number divided by the number of vertices is a fractal dimension of a graph.\n",
    "<br/><br/>\n",
    "Example:\n",
    "<img src=\"question_example.png\" width=\"800\" />"
   ]
  },
  {
   "cell_type": "code",
   "execution_count": 1,
   "id": "afce1135",
   "metadata": {},
   "outputs": [],
   "source": [
    "import networkx as nx\n",
    "import itertools\n",
    "G = nx.Graph()\n",
    "G.add_nodes_from([1,2,3,4,5,6,7,8])\n",
    "G.add_edges_from([(1,2),(2,3), (2,4), (3,4), (3,5), (4,5), (5,6), (5,7), (6,8), (7,8)])"
   ]
  },
  {
   "cell_type": "code",
   "execution_count": 2,
   "id": "bb523b75",
   "metadata": {},
   "outputs": [],
   "source": [
    "number_edges = G.number_of_edges()"
   ]
  },
  {
   "cell_type": "code",
   "execution_count": 3,
   "id": "3f9baa05",
   "metadata": {},
   "outputs": [
    {
     "data": {
      "text/plain": [
       "10"
      ]
     },
     "execution_count": 3,
     "metadata": {},
     "output_type": "execute_result"
    }
   ],
   "source": [
    "number_edges"
   ]
  },
  {
   "cell_type": "code",
   "execution_count": 4,
   "id": "62de70b3",
   "metadata": {},
   "outputs": [],
   "source": [
    "number_nodes = G.number_of_nodes()"
   ]
  },
  {
   "cell_type": "code",
   "execution_count": 5,
   "id": "66be0f68",
   "metadata": {},
   "outputs": [
    {
     "data": {
      "text/plain": [
       "8"
      ]
     },
     "execution_count": 5,
     "metadata": {},
     "output_type": "execute_result"
    }
   ],
   "source": [
    "number_nodes"
   ]
  },
  {
   "cell_type": "code",
   "execution_count": 6,
   "id": "7c356784",
   "metadata": {},
   "outputs": [
    {
     "data": {
      "image/png": "[encoded data removed]",
      "text/plain": [
       "<Figure size 432x288 with 1 Axes>"
      ]
     },
     "metadata": {},
     "output_type": "display_data"
    }
   ],
   "source": [
    "nx.draw_spring(G, with_labels = True)"
   ]
  },
  {
   "cell_type": "code",
   "execution_count": 34,
   "id": "c4db5010",
   "metadata": {},
   "outputs": [],
   "source": [
    "cliques_G = nx.find_cliques(G) #finds all cliques in a graph"
   ]
  },
  {
   "cell_type": "code",
   "execution_count": 7,
   "id": "4f3dcb35",
   "metadata": {},
   "outputs": [],
   "source": [
    "def find_cliques_size_k(G, k):\n",
    "    all_cliques = set()\n",
    "    for clique in nx.find_cliques(G):\n",
    "        if len(clique) == k:\n",
    "            all_cliques.add(tuple(sorted(clique)))\n",
    "        elif len(clique) > k:\n",
    "            for mini_clique in itertools.combinations(clique, k):\n",
    "                all_cliques.add(tuple(sorted(mini_clique)))\n",
    "    return all_cliques"
   ]
  },
  {
   "cell_type": "code",
   "execution_count": 8,
   "id": "6a2c5af4",
   "metadata": {},
   "outputs": [],
   "source": [
    "cliques = dict.fromkeys([*range(2,G.number_of_nodes()+1)])"
   ]
  },
  {
   "cell_type": "code",
   "execution_count": 9,
   "id": "459ff03e",
   "metadata": {},
   "outputs": [
    {
     "data": {
      "text/plain": [
       "{2: None, 3: None, 4: None, 5: None, 6: None, 7: None, 8: None}"
      ]
     },
     "execution_count": 9,
     "metadata": {},
     "output_type": "execute_result"
    }
   ],
   "source": [
    "cliques"
   ]
  },
  {
   "cell_type": "code",
   "execution_count": 10,
   "id": "a13e806b",
   "metadata": {},
   "outputs": [],
   "source": [
    "for i in range(2,G.number_of_nodes()+1):\n",
    "    cliques[i] = list(find_cliques_size_k(G, i))            "
   ]
  },
  {
   "cell_type": "code",
   "execution_count": 11,
   "id": "a3cf976a",
   "metadata": {},
   "outputs": [
    {
     "data": {
      "text/plain": [
       "{2: [(1, 2),\n",
       "  (6, 8),\n",
       "  (4, 5),\n",
       "  (5, 6),\n",
       "  (5, 7),\n",
       "  (2, 3),\n",
       "  (3, 4),\n",
       "  (7, 8),\n",
       "  (2, 4),\n",
       "  (3, 5)],\n",
       " 3: [(3, 4, 5), (2, 3, 4)],\n",
       " 4: [],\n",
       " 5: [],\n",
       " 6: [],\n",
       " 7: [],\n",
       " 8: []}"
      ]
     },
     "execution_count": 11,
     "metadata": {},
     "output_type": "execute_result"
    }
   ],
   "source": [
    "cliques"
   ]
  },
  {
   "cell_type": "code",
   "execution_count": 12,
   "id": "37517f5c",
   "metadata": {},
   "outputs": [],
   "source": [
    "#remove the duplicate cliques in lower range\n",
    "for key in cliques:\n",
    "    if key >= 3 and cliques[key]: #if the key value is greater than 3 and it has cliques in it.\n",
    "        for j in range(key-1, 1, -1):\n",
    "            for val in cliques[key]:\n",
    "                combinations = list(itertools.combinations(val,j))\n",
    "                for element in combinations:\n",
    "                    if element in cliques[key-1]:\n",
    "                        cliques[key-1].remove(element)"
   ]
  },
  {
   "cell_type": "code",
   "execution_count": 13,
   "id": "e9eb82f0",
   "metadata": {},
   "outputs": [
    {
     "data": {
      "text/plain": [
       "{2: [(1, 2), (6, 8), (5, 6), (5, 7), (7, 8)],\n",
       " 3: [(3, 4, 5), (2, 3, 4)],\n",
       " 4: [],\n",
       " 5: [],\n",
       " 6: [],\n",
       " 7: [],\n",
       " 8: []}"
      ]
     },
     "execution_count": 13,
     "metadata": {},
     "output_type": "execute_result"
    }
   ],
   "source": [
    "cliques"
   ]
  },
  {
   "cell_type": "code",
   "execution_count": 14,
   "id": "b6d468ba",
   "metadata": {},
   "outputs": [],
   "source": [
    "G_prime = nx.Graph()"
   ]
  },
  {
   "cell_type": "code",
   "execution_count": 15,
   "id": "a897e89a",
   "metadata": {},
   "outputs": [],
   "source": [
    "for i in cliques:\n",
    "    G_prime.add_nodes_from(cliques[i])"
   ]
  },
  {
   "cell_type": "code",
   "execution_count": 16,
   "id": "ee0e9bbe",
   "metadata": {},
   "outputs": [
    {
     "data": {
      "text/plain": [
       "7"
      ]
     },
     "execution_count": 16,
     "metadata": {},
     "output_type": "execute_result"
    }
   ],
   "source": [
    "G_prime.number_of_nodes()"
   ]
  },
  {
   "cell_type": "code",
   "execution_count": 17,
   "id": "b734fc9c",
   "metadata": {},
   "outputs": [
    {
     "data": {
      "image/png": "[encoded data removed]",
      "text/plain": [
       "<Figure size 432x288 with 1 Axes>"
      ]
     },
     "metadata": {},
     "output_type": "display_data"
    }
   ],
   "source": [
    "nx.draw_spring(G_prime, with_labels = True)"
   ]
  },
  {
   "cell_type": "code",
   "execution_count": 18,
   "id": "03cfb2ad",
   "metadata": {},
   "outputs": [],
   "source": [
    "nodes_prime = list(G_prime.nodes)"
   ]
  },
  {
   "cell_type": "code",
   "execution_count": 19,
   "id": "d577d38d",
   "metadata": {},
   "outputs": [],
   "source": [
    "n = len(nodes_prime)\n",
    "for i in range(n-1):\n",
    "    for j in range(i+1, n):\n",
    "        if(set(nodes_prime[i]) & set(nodes_prime[j])):\n",
    "            G_prime.add_edge(nodes_prime[i], nodes_prime[j])"
   ]
  },
  {
   "cell_type": "code",
   "execution_count": 20,
   "id": "2731f10e",
   "metadata": {},
   "outputs": [
    {
     "data": {
      "image/png": "[encoded data removed]",
      "text/plain": [
       "<Figure size 432x288 with 1 Axes>"
      ]
     },
     "metadata": {},
     "output_type": "display_data"
    }
   ],
   "source": [
    "nx.draw_spring(G_prime, with_labels = True)"
   ]
  },
  {
   "cell_type": "code",
   "execution_count": 21,
   "id": "dc275072",
   "metadata": {},
   "outputs": [],
   "source": [
    "colors = nx.coloring.greedy_color(G_prime, strategy='DSATUR')"
   ]
  },
  {
   "cell_type": "code",
   "execution_count": 22,
   "id": "eec1c806",
   "metadata": {},
   "outputs": [],
   "source": [
    "#get the number of colors used\n",
    "colors = len(set(colors.values()))"
   ]
  },
  {
   "cell_type": "code",
   "execution_count": 23,
   "id": "bc37fd55",
   "metadata": {},
   "outputs": [],
   "source": [
    "fractal_dimension = colors/number_nodes"
   ]
  },
  {
   "cell_type": "code",
   "execution_count": 24,
   "id": "b6fe12f8",
   "metadata": {},
   "outputs": [
    {
     "name": "stdout",
     "output_type": "stream",
     "text": [
      "The Fractal dimension of this graph is 0.375\n"
     ]
    }
   ],
   "source": [
    "print(\"The Fractal dimension of this graph is\", fractal_dimension)"
   ]
  },
  {
   "cell_type": "code",
   "execution_count": 32,
   "id": "0cc55cb9",
   "metadata": {},
   "outputs": [
    {
     "name": "stdout",
     "output_type": "stream",
     "text": [
      "Your answer is matching with your output\n"
     ]
    }
   ],
   "source": [
    "if (3/8) == fractal_dimension:\n",
    "    print(\"Your answer is matching with your output\")"
   ]
  }
 ],
 "metadata": {
  "kernelspec": {
   "display_name": "Python 3 (ipykernel)",
   "language": "python",
   "name": "python3"
  },
  "language_info": {
   "codemirror_mode": {
    "name": "ipython",
    "version": 3
   },
   "file_extension": ".py",
   "mimetype": "text/x-python",
   "name": "python",
   "nbconvert_exporter": "python",
   "pygments_lexer": "ipython3",
   "version": "3.7.11"
  }
 },
 "nbformat": 4,
 "nbformat_minor": 5
}
